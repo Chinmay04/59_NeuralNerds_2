{
  "nbformat": 4,
  "nbformat_minor": 0,
  "metadata": {
    "colab": {
      "provenance": []
    },
    "kernelspec": {
      "name": "python3",
      "display_name": "Python 3"
    },
    "language_info": {
      "name": "python"
    }
  },
  "cells": [
    {
      "cell_type": "code",
      "execution_count": 1,
      "metadata": {
        "id": "OgUBpbugIyyF"
      },
      "outputs": [],
      "source": [
        "import pandas as pd"
      ]
    },
    {
      "cell_type": "code",
      "source": [
        "crop = pd.read_csv(\"/content/Crops.csv\")\n",
        "fert = pd.read_csv(\"/content/Fertilizer.csv\")"
      ],
      "metadata": {
        "id": "AnhdnbbsKKkB"
      },
      "execution_count": 2,
      "outputs": []
    },
    {
      "cell_type": "code",
      "source": [
        "crop.head()\n"
      ],
      "metadata": {
        "colab": {
          "base_uri": "https://localhost:8080/",
          "height": 206
        },
        "id": "mc6JQqbuKR07",
        "outputId": "228fae2b-13c3-444f-81d8-273b932b7cd8"
      },
      "execution_count": 3,
      "outputs": [
        {
          "output_type": "execute_result",
          "data": {
            "text/plain": [
              "   temperature   humidity        ph    rainfall label\n",
              "0    20.879744  82.002744  6.502985  202.935536  rice\n",
              "1    21.770462  80.319644  7.038096  226.655537  rice\n",
              "2    23.004459  82.320763  7.840207  263.964248  rice\n",
              "3    26.491096  80.158363  6.980401  242.864034  rice\n",
              "4    20.130175  81.604873  7.628473  262.717340  rice"
            ],
            "text/html": [
              "\n",
              "  <div id=\"df-e626da18-1610-472f-99dd-348eecd86a26\">\n",
              "    <div class=\"colab-df-container\">\n",
              "      <div>\n",
              "<style scoped>\n",
              "    .dataframe tbody tr th:only-of-type {\n",
              "        vertical-align: middle;\n",
              "    }\n",
              "\n",
              "    .dataframe tbody tr th {\n",
              "        vertical-align: top;\n",
              "    }\n",
              "\n",
              "    .dataframe thead th {\n",
              "        text-align: right;\n",
              "    }\n",
              "</style>\n",
              "<table border=\"1\" class=\"dataframe\">\n",
              "  <thead>\n",
              "    <tr style=\"text-align: right;\">\n",
              "      <th></th>\n",
              "      <th>temperature</th>\n",
              "      <th>humidity</th>\n",
              "      <th>ph</th>\n",
              "      <th>rainfall</th>\n",
              "      <th>label</th>\n",
              "    </tr>\n",
              "  </thead>\n",
              "  <tbody>\n",
              "    <tr>\n",
              "      <th>0</th>\n",
              "      <td>20.879744</td>\n",
              "      <td>82.002744</td>\n",
              "      <td>6.502985</td>\n",
              "      <td>202.935536</td>\n",
              "      <td>rice</td>\n",
              "    </tr>\n",
              "    <tr>\n",
              "      <th>1</th>\n",
              "      <td>21.770462</td>\n",
              "      <td>80.319644</td>\n",
              "      <td>7.038096</td>\n",
              "      <td>226.655537</td>\n",
              "      <td>rice</td>\n",
              "    </tr>\n",
              "    <tr>\n",
              "      <th>2</th>\n",
              "      <td>23.004459</td>\n",
              "      <td>82.320763</td>\n",
              "      <td>7.840207</td>\n",
              "      <td>263.964248</td>\n",
              "      <td>rice</td>\n",
              "    </tr>\n",
              "    <tr>\n",
              "      <th>3</th>\n",
              "      <td>26.491096</td>\n",
              "      <td>80.158363</td>\n",
              "      <td>6.980401</td>\n",
              "      <td>242.864034</td>\n",
              "      <td>rice</td>\n",
              "    </tr>\n",
              "    <tr>\n",
              "      <th>4</th>\n",
              "      <td>20.130175</td>\n",
              "      <td>81.604873</td>\n",
              "      <td>7.628473</td>\n",
              "      <td>262.717340</td>\n",
              "      <td>rice</td>\n",
              "    </tr>\n",
              "  </tbody>\n",
              "</table>\n",
              "</div>\n",
              "      <button class=\"colab-df-convert\" onclick=\"convertToInteractive('df-e626da18-1610-472f-99dd-348eecd86a26')\"\n",
              "              title=\"Convert this dataframe to an interactive table.\"\n",
              "              style=\"display:none;\">\n",
              "        \n",
              "  <svg xmlns=\"http://www.w3.org/2000/svg\" height=\"24px\"viewBox=\"0 0 24 24\"\n",
              "       width=\"24px\">\n",
              "    <path d=\"M0 0h24v24H0V0z\" fill=\"none\"/>\n",
              "    <path d=\"M18.56 5.44l.94 2.06.94-2.06 2.06-.94-2.06-.94-.94-2.06-.94 2.06-2.06.94zm-11 1L8.5 8.5l.94-2.06 2.06-.94-2.06-.94L8.5 2.5l-.94 2.06-2.06.94zm10 10l.94 2.06.94-2.06 2.06-.94-2.06-.94-.94-2.06-.94 2.06-2.06.94z\"/><path d=\"M17.41 7.96l-1.37-1.37c-.4-.4-.92-.59-1.43-.59-.52 0-1.04.2-1.43.59L10.3 9.45l-7.72 7.72c-.78.78-.78 2.05 0 2.83L4 21.41c.39.39.9.59 1.41.59.51 0 1.02-.2 1.41-.59l7.78-7.78 2.81-2.81c.8-.78.8-2.07 0-2.86zM5.41 20L4 18.59l7.72-7.72 1.47 1.35L5.41 20z\"/>\n",
              "  </svg>\n",
              "      </button>\n",
              "      \n",
              "  <style>\n",
              "    .colab-df-container {\n",
              "      display:flex;\n",
              "      flex-wrap:wrap;\n",
              "      gap: 12px;\n",
              "    }\n",
              "\n",
              "    .colab-df-convert {\n",
              "      background-color: #E8F0FE;\n",
              "      border: none;\n",
              "      border-radius: 50%;\n",
              "      cursor: pointer;\n",
              "      display: none;\n",
              "      fill: #1967D2;\n",
              "      height: 32px;\n",
              "      padding: 0 0 0 0;\n",
              "      width: 32px;\n",
              "    }\n",
              "\n",
              "    .colab-df-convert:hover {\n",
              "      background-color: #E2EBFA;\n",
              "      box-shadow: 0px 1px 2px rgba(60, 64, 67, 0.3), 0px 1px 3px 1px rgba(60, 64, 67, 0.15);\n",
              "      fill: #174EA6;\n",
              "    }\n",
              "\n",
              "    [theme=dark] .colab-df-convert {\n",
              "      background-color: #3B4455;\n",
              "      fill: #D2E3FC;\n",
              "    }\n",
              "\n",
              "    [theme=dark] .colab-df-convert:hover {\n",
              "      background-color: #434B5C;\n",
              "      box-shadow: 0px 1px 3px 1px rgba(0, 0, 0, 0.15);\n",
              "      filter: drop-shadow(0px 1px 2px rgba(0, 0, 0, 0.3));\n",
              "      fill: #FFFFFF;\n",
              "    }\n",
              "  </style>\n",
              "\n",
              "      <script>\n",
              "        const buttonEl =\n",
              "          document.querySelector('#df-e626da18-1610-472f-99dd-348eecd86a26 button.colab-df-convert');\n",
              "        buttonEl.style.display =\n",
              "          google.colab.kernel.accessAllowed ? 'block' : 'none';\n",
              "\n",
              "        async function convertToInteractive(key) {\n",
              "          const element = document.querySelector('#df-e626da18-1610-472f-99dd-348eecd86a26');\n",
              "          const dataTable =\n",
              "            await google.colab.kernel.invokeFunction('convertToInteractive',\n",
              "                                                     [key], {});\n",
              "          if (!dataTable) return;\n",
              "\n",
              "          const docLinkHtml = 'Like what you see? Visit the ' +\n",
              "            '<a target=\"_blank\" href=https://colab.research.google.com/notebooks/data_table.ipynb>data table notebook</a>'\n",
              "            + ' to learn more about interactive tables.';\n",
              "          element.innerHTML = '';\n",
              "          dataTable['output_type'] = 'display_data';\n",
              "          await google.colab.output.renderOutput(dataTable, element);\n",
              "          const docLink = document.createElement('div');\n",
              "          docLink.innerHTML = docLinkHtml;\n",
              "          element.appendChild(docLink);\n",
              "        }\n",
              "      </script>\n",
              "    </div>\n",
              "  </div>\n",
              "  "
            ]
          },
          "metadata": {},
          "execution_count": 3
        }
      ]
    },
    {
      "cell_type": "code",
      "source": [
        "crop.label.unique()"
      ],
      "metadata": {
        "colab": {
          "base_uri": "https://localhost:8080/"
        },
        "id": "TjH8e4YkKZdW",
        "outputId": "53ccdf91-9924-4a03-c7a2-07c76bcbef36"
      },
      "execution_count": 4,
      "outputs": [
        {
          "output_type": "execute_result",
          "data": {
            "text/plain": [
              "array(['rice', 'wheat', 'Mung Bean', 'Tea', 'millet', 'maize', 'Lentil',\n",
              "       'Jute', 'Coffee', 'Cotton', 'Ground Nut', 'Peas', 'Rubber',\n",
              "       'Sugarcane', 'Tobacco', 'Kidney Beans', 'Moth Beans', 'Coconut',\n",
              "       'Black gram', 'Adzuki Beans', 'Pigeon Peas', 'Chickpea', 'banana',\n",
              "       'grapes', 'apple', 'mango', 'muskmelon', 'orange', 'papaya',\n",
              "       'pomegranate', 'watermelon'], dtype=object)"
            ]
          },
          "metadata": {},
          "execution_count": 4
        }
      ]
    },
    {
      "cell_type": "code",
      "source": [
        "del fert['Unnamed: 0']\n"
      ],
      "metadata": {
        "id": "bZZhPxAmKhz0"
      },
      "execution_count": 5,
      "outputs": []
    },
    {
      "cell_type": "code",
      "source": [
        "fert.head()"
      ],
      "metadata": {
        "colab": {
          "base_uri": "https://localhost:8080/",
          "height": 206
        },
        "id": "SAiJGGOEP1RQ",
        "outputId": "b78736b5-ede5-45cb-aa17-8d3cb85db1bf"
      },
      "execution_count": 6,
      "outputs": [
        {
          "output_type": "execute_result",
          "data": {
            "text/plain": [
              "               Crop   N   P   K   pH\n",
              "0              Rice  80  40  40  5.5\n",
              "1    Jowar(Sorghum)  80  40  40  5.5\n",
              "2       Barley(JAV)  70  40  45  5.5\n",
              "3             Maize  80  40  20  5.5\n",
              "4  Ragi( naachnnii)  50  40  20  5.5"
            ],
            "text/html": [
              "\n",
              "  <div id=\"df-f2220cc3-464e-41df-90a6-9c5fa0c62027\">\n",
              "    <div class=\"colab-df-container\">\n",
              "      <div>\n",
              "<style scoped>\n",
              "    .dataframe tbody tr th:only-of-type {\n",
              "        vertical-align: middle;\n",
              "    }\n",
              "\n",
              "    .dataframe tbody tr th {\n",
              "        vertical-align: top;\n",
              "    }\n",
              "\n",
              "    .dataframe thead th {\n",
              "        text-align: right;\n",
              "    }\n",
              "</style>\n",
              "<table border=\"1\" class=\"dataframe\">\n",
              "  <thead>\n",
              "    <tr style=\"text-align: right;\">\n",
              "      <th></th>\n",
              "      <th>Crop</th>\n",
              "      <th>N</th>\n",
              "      <th>P</th>\n",
              "      <th>K</th>\n",
              "      <th>pH</th>\n",
              "    </tr>\n",
              "  </thead>\n",
              "  <tbody>\n",
              "    <tr>\n",
              "      <th>0</th>\n",
              "      <td>Rice</td>\n",
              "      <td>80</td>\n",
              "      <td>40</td>\n",
              "      <td>40</td>\n",
              "      <td>5.5</td>\n",
              "    </tr>\n",
              "    <tr>\n",
              "      <th>1</th>\n",
              "      <td>Jowar(Sorghum)</td>\n",
              "      <td>80</td>\n",
              "      <td>40</td>\n",
              "      <td>40</td>\n",
              "      <td>5.5</td>\n",
              "    </tr>\n",
              "    <tr>\n",
              "      <th>2</th>\n",
              "      <td>Barley(JAV)</td>\n",
              "      <td>70</td>\n",
              "      <td>40</td>\n",
              "      <td>45</td>\n",
              "      <td>5.5</td>\n",
              "    </tr>\n",
              "    <tr>\n",
              "      <th>3</th>\n",
              "      <td>Maize</td>\n",
              "      <td>80</td>\n",
              "      <td>40</td>\n",
              "      <td>20</td>\n",
              "      <td>5.5</td>\n",
              "    </tr>\n",
              "    <tr>\n",
              "      <th>4</th>\n",
              "      <td>Ragi( naachnnii)</td>\n",
              "      <td>50</td>\n",
              "      <td>40</td>\n",
              "      <td>20</td>\n",
              "      <td>5.5</td>\n",
              "    </tr>\n",
              "  </tbody>\n",
              "</table>\n",
              "</div>\n",
              "      <button class=\"colab-df-convert\" onclick=\"convertToInteractive('df-f2220cc3-464e-41df-90a6-9c5fa0c62027')\"\n",
              "              title=\"Convert this dataframe to an interactive table.\"\n",
              "              style=\"display:none;\">\n",
              "        \n",
              "  <svg xmlns=\"http://www.w3.org/2000/svg\" height=\"24px\"viewBox=\"0 0 24 24\"\n",
              "       width=\"24px\">\n",
              "    <path d=\"M0 0h24v24H0V0z\" fill=\"none\"/>\n",
              "    <path d=\"M18.56 5.44l.94 2.06.94-2.06 2.06-.94-2.06-.94-.94-2.06-.94 2.06-2.06.94zm-11 1L8.5 8.5l.94-2.06 2.06-.94-2.06-.94L8.5 2.5l-.94 2.06-2.06.94zm10 10l.94 2.06.94-2.06 2.06-.94-2.06-.94-.94-2.06-.94 2.06-2.06.94z\"/><path d=\"M17.41 7.96l-1.37-1.37c-.4-.4-.92-.59-1.43-.59-.52 0-1.04.2-1.43.59L10.3 9.45l-7.72 7.72c-.78.78-.78 2.05 0 2.83L4 21.41c.39.39.9.59 1.41.59.51 0 1.02-.2 1.41-.59l7.78-7.78 2.81-2.81c.8-.78.8-2.07 0-2.86zM5.41 20L4 18.59l7.72-7.72 1.47 1.35L5.41 20z\"/>\n",
              "  </svg>\n",
              "      </button>\n",
              "      \n",
              "  <style>\n",
              "    .colab-df-container {\n",
              "      display:flex;\n",
              "      flex-wrap:wrap;\n",
              "      gap: 12px;\n",
              "    }\n",
              "\n",
              "    .colab-df-convert {\n",
              "      background-color: #E8F0FE;\n",
              "      border: none;\n",
              "      border-radius: 50%;\n",
              "      cursor: pointer;\n",
              "      display: none;\n",
              "      fill: #1967D2;\n",
              "      height: 32px;\n",
              "      padding: 0 0 0 0;\n",
              "      width: 32px;\n",
              "    }\n",
              "\n",
              "    .colab-df-convert:hover {\n",
              "      background-color: #E2EBFA;\n",
              "      box-shadow: 0px 1px 2px rgba(60, 64, 67, 0.3), 0px 1px 3px 1px rgba(60, 64, 67, 0.15);\n",
              "      fill: #174EA6;\n",
              "    }\n",
              "\n",
              "    [theme=dark] .colab-df-convert {\n",
              "      background-color: #3B4455;\n",
              "      fill: #D2E3FC;\n",
              "    }\n",
              "\n",
              "    [theme=dark] .colab-df-convert:hover {\n",
              "      background-color: #434B5C;\n",
              "      box-shadow: 0px 1px 3px 1px rgba(0, 0, 0, 0.15);\n",
              "      filter: drop-shadow(0px 1px 2px rgba(0, 0, 0, 0.3));\n",
              "      fill: #FFFFFF;\n",
              "    }\n",
              "  </style>\n",
              "\n",
              "      <script>\n",
              "        const buttonEl =\n",
              "          document.querySelector('#df-f2220cc3-464e-41df-90a6-9c5fa0c62027 button.colab-df-convert');\n",
              "        buttonEl.style.display =\n",
              "          google.colab.kernel.accessAllowed ? 'block' : 'none';\n",
              "\n",
              "        async function convertToInteractive(key) {\n",
              "          const element = document.querySelector('#df-f2220cc3-464e-41df-90a6-9c5fa0c62027');\n",
              "          const dataTable =\n",
              "            await google.colab.kernel.invokeFunction('convertToInteractive',\n",
              "                                                     [key], {});\n",
              "          if (!dataTable) return;\n",
              "\n",
              "          const docLinkHtml = 'Like what you see? Visit the ' +\n",
              "            '<a target=\"_blank\" href=https://colab.research.google.com/notebooks/data_table.ipynb>data table notebook</a>'\n",
              "            + ' to learn more about interactive tables.';\n",
              "          element.innerHTML = '';\n",
              "          dataTable['output_type'] = 'display_data';\n",
              "          await google.colab.output.renderOutput(dataTable, element);\n",
              "          const docLink = document.createElement('div');\n",
              "          docLink.innerHTML = docLinkHtml;\n",
              "          element.appendChild(docLink);\n",
              "        }\n",
              "      </script>\n",
              "    </div>\n",
              "  </div>\n",
              "  "
            ]
          },
          "metadata": {},
          "execution_count": 6
        }
      ]
    },
    {
      "cell_type": "code",
      "source": [
        "fert.Crop.unique()"
      ],
      "metadata": {
        "colab": {
          "base_uri": "https://localhost:8080/"
        },
        "id": "YEZHr_RaTnDG",
        "outputId": "8646b6c5-57ef-4e37-f6cd-fe2fff9784c1"
      },
      "execution_count": 7,
      "outputs": [
        {
          "output_type": "execute_result",
          "data": {
            "text/plain": [
              "array(['Rice', 'Jowar(Sorghum)', 'Barley(JAV)', 'Maize',\n",
              "       'Ragi( naachnnii)', 'Chickpeas(Channa)', 'French Beans(Farasbi)',\n",
              "       'Fava beans (Papdi - Val)', 'Lima beans(Pavta)',\n",
              "       'Cluster Beans(Gavar)', 'Soyabean', 'Black eyed beans( chawli)',\n",
              "       'Kidney beans', 'pigeon peas(Toor Dal)', 'Moth bean(Matki)',\n",
              "       'Mung beans', 'Green Peas', 'Horse Gram(kulthi)', 'Black Gram',\n",
              "       'Rapeseed (Mohri)', 'Coriander seeds', 'Mustard seeds',\n",
              "       'sesame seed', 'Cumin seeds', 'Lentils(Masoor Dal)', 'Brinjal',\n",
              "       'Beetroot', 'Bitter Gourd', 'Bottle Gourd', 'Capsicum', 'Cabbage',\n",
              "       'Carrot', 'Cauliflower', 'Cucumber', 'Coriander leaves',\n",
              "       'Curry leaves', 'Drumstick – moringa', 'Chili', 'Lady Finger',\n",
              "       'Mushroom', 'Onion', 'Potato', 'Pumpkin', 'Radish', 'Olive',\n",
              "       'Sweet Potato', 'Fenugreek Leaf(methi)', 'Spinach', 'Ridgegourd',\n",
              "       'Gooseberry(Amla)', 'Jambun(Syzygium cumini)',\n",
              "       'Ziziphus mauritiana(Bor)', 'Garcinia indica(kokam)', 'Tamarind',\n",
              "       'Tapioca(Suran)', 'Garlic', 'Lemon', 'Tomato', 'Ash Gourd',\n",
              "       'Pineapple', 'Pomegranate', 'Banana', 'Mango', 'Grapes',\n",
              "       'Jackfruit', 'Guava', 'Water Melon', 'Musk Melon', 'Apricot',\n",
              "       'Apple', 'Chickoo', 'Custard apple', 'Dates', 'Figs', 'Orange',\n",
              "       'Papaya', 'Aniseed', 'Asafoetida', 'Bay Leaf', 'Black Pepper',\n",
              "       'Cardamom', 'Cinnamon', 'Cloves', 'Jaiphal(Nutmeg)', 'Ginger',\n",
              "       'Turmeric', 'Cashewnuts', 'Raisins', 'Coconut', 'Almond Nut',\n",
              "       'Arecanut', 'Pistachio Nut', 'Lemon Grass', 'Cotton', 'Jute',\n",
              "       'Coffee', 'Sunflower'], dtype=object)"
            ]
          },
          "metadata": {},
          "execution_count": 7
        }
      ]
    },
    {
      "cell_type": "code",
      "source": [
        "def change_case(i):\n",
        "    i = i.replace(\" \", \"\")\n",
        "    i = i.lower()\n",
        "    return i"
      ],
      "metadata": {
        "id": "MzVZhIbGTpMW"
      },
      "execution_count": 8,
      "outputs": []
    },
    {
      "cell_type": "code",
      "source": [
        "fert['Crop'] = fert['Crop'].apply(change_case)\n",
        "crop['label'] = crop['label'].apply(change_case)"
      ],
      "metadata": {
        "id": "7mka4MXdT7zj"
      },
      "execution_count": 9,
      "outputs": []
    },
    {
      "cell_type": "code",
      "source": [
        "\n",
        "fert['Crop'] = fert['Crop'].replace('mungbeans','mungbean')\n",
        "fert['Crop'] = fert['Crop'].replace('lentils(masoordal)','lentil')\n",
        "fert['Crop'] = fert['Crop'].replace('pigeonpeas(toordal)','pigeonpeas')\n",
        "fert['Crop'] = fert['Crop'].replace('mothbean(matki)','mothbeans')\n",
        "fert['Crop'] = fert['Crop'].replace('chickpeas(channa)','chickpea')"
      ],
      "metadata": {
        "id": "fDfYrovYT8ls"
      },
      "execution_count": 10,
      "outputs": []
    },
    {
      "cell_type": "code",
      "source": [
        "crop_names = crop['label'].unique()\n",
        "crop_names"
      ],
      "metadata": {
        "colab": {
          "base_uri": "https://localhost:8080/"
        },
        "id": "tCCxDIG_T-tN",
        "outputId": "5ce72457-0ce2-48b9-fd65-1884cea39904"
      },
      "execution_count": 11,
      "outputs": [
        {
          "output_type": "execute_result",
          "data": {
            "text/plain": [
              "array(['rice', 'wheat', 'mungbean', 'tea', 'millet', 'maize', 'lentil',\n",
              "       'jute', 'coffee', 'cotton', 'groundnut', 'peas', 'rubber',\n",
              "       'sugarcane', 'tobacco', 'kidneybeans', 'mothbeans', 'coconut',\n",
              "       'blackgram', 'adzukibeans', 'pigeonpeas', 'chickpea', 'banana',\n",
              "       'grapes', 'apple', 'mango', 'muskmelon', 'orange', 'papaya',\n",
              "       'pomegranate', 'watermelon'], dtype=object)"
            ]
          },
          "metadata": {},
          "execution_count": 11
        }
      ]
    },
    {
      "cell_type": "code",
      "source": [
        "crop_names_from_fert = fert['Crop'].unique()\n",
        "crop_names_from_fert"
      ],
      "metadata": {
        "colab": {
          "base_uri": "https://localhost:8080/"
        },
        "id": "Tu_WhrisUC_0",
        "outputId": "e22916d5-bbca-43a1-9b77-bf02af266ad1"
      },
      "execution_count": 12,
      "outputs": [
        {
          "output_type": "execute_result",
          "data": {
            "text/plain": [
              "array(['rice', 'jowar(sorghum)', 'barley(jav)', 'maize',\n",
              "       'ragi(naachnnii)', 'chickpea', 'frenchbeans(farasbi)',\n",
              "       'favabeans(papdi-val)', 'limabeans(pavta)', 'clusterbeans(gavar)',\n",
              "       'soyabean', 'blackeyedbeans(chawli)', 'kidneybeans', 'pigeonpeas',\n",
              "       'mothbeans', 'mungbean', 'greenpeas', 'horsegram(kulthi)',\n",
              "       'blackgram', 'rapeseed(mohri)', 'corianderseeds', 'mustardseeds',\n",
              "       'sesameseed', 'cuminseeds', 'lentil', 'brinjal', 'beetroot',\n",
              "       'bittergourd', 'bottlegourd', 'capsicum', 'cabbage', 'carrot',\n",
              "       'cauliflower', 'cucumber', 'corianderleaves', 'curryleaves',\n",
              "       'drumstick–moringa', 'chili', 'ladyfinger', 'mushroom', 'onion',\n",
              "       'potato', 'pumpkin', 'radish', 'olive', 'sweetpotato',\n",
              "       'fenugreekleaf(methi)', 'spinach', 'ridgegourd',\n",
              "       'gooseberry(amla)', 'jambun(syzygiumcumini)',\n",
              "       'ziziphusmauritiana(bor)', 'garciniaindica(kokam)', 'tamarind',\n",
              "       'tapioca(suran)', 'garlic', 'lemon', 'tomato', 'ashgourd',\n",
              "       'pineapple', 'pomegranate', 'banana', 'mango', 'grapes',\n",
              "       'jackfruit', 'guava', 'watermelon', 'muskmelon', 'apricot',\n",
              "       'apple', 'chickoo', 'custardapple', 'dates', 'figs', 'orange',\n",
              "       'papaya', 'aniseed', 'asafoetida', 'bayleaf', 'blackpepper',\n",
              "       'cardamom', 'cinnamon', 'cloves', 'jaiphal(nutmeg)', 'ginger',\n",
              "       'turmeric', 'cashewnuts', 'raisins', 'coconut', 'almondnut',\n",
              "       'arecanut', 'pistachionut', 'lemongrass', 'cotton', 'jute',\n",
              "       'coffee', 'sunflower'], dtype=object)"
            ]
          },
          "metadata": {},
          "execution_count": 12
        }
      ]
    },
    {
      "cell_type": "code",
      "source": [
        "\n",
        "extract_labels = []\n",
        "for i in crop_names_from_fert:\n",
        "    if i in crop_names:\n",
        "        extract_labels.append(i)"
      ],
      "metadata": {
        "id": "_T5g32ppUDek"
      },
      "execution_count": 13,
      "outputs": []
    },
    {
      "cell_type": "code",
      "source": [
        "new_crop = pd.DataFrame(columns = crop.columns)\n",
        "new_fert = pd.DataFrame(columns = fert.columns)\n",
        "for label in extract_labels:\n",
        "    new_crop = new_crop.append(crop[crop['label'] == label])\n",
        "\n",
        "for label in extract_labels:\n",
        "    new_fert = new_fert.append(fert[fert['Crop'] == label].iloc[0])"
      ],
      "metadata": {
        "id": "MoYjLrECUIwW"
      },
      "execution_count": 14,
      "outputs": []
    },
    {
      "cell_type": "code",
      "source": [
        "fert.shape"
      ],
      "metadata": {
        "colab": {
          "base_uri": "https://localhost:8080/"
        },
        "id": "ZCmM1JRHUQwJ",
        "outputId": "912d04e3-b1e2-4c1a-c859-b648ab633270"
      },
      "execution_count": 15,
      "outputs": [
        {
          "output_type": "execute_result",
          "data": {
            "text/plain": [
              "(1843, 5)"
            ]
          },
          "metadata": {},
          "execution_count": 15
        }
      ]
    },
    {
      "cell_type": "code",
      "source": [
        "fert_copy = new_fert.copy()"
      ],
      "metadata": {
        "id": "QmBFuunOUvIR"
      },
      "execution_count": 16,
      "outputs": []
    },
    {
      "cell_type": "code",
      "source": [
        "import random\n",
        "temp = pd.DataFrame(columns = ['N','P','K'])\n",
        "for i in range(0,new_crop.shape[0]):\n",
        "    crop = new_crop.label.iloc[i]\n",
        "    N = fert_copy[fert_copy['Crop'] == crop][\"N\"].iloc[0] + random.randint(-20,20)\n",
        "    P = fert_copy[fert_copy['Crop'] == crop][\"P\"].iloc[0] + random.randint(-5,20)\n",
        "    K = fert_copy[fert_copy['Crop'] == crop][\"K\"].iloc[0] + random.randint(-5,5)\n",
        "    d = {\"N\":N,\"P\":P,\"K\":K}\n",
        "    temp = temp.append(d,ignore_index = True)"
      ],
      "metadata": {
        "id": "I5DXRZq2UcLy"
      },
      "execution_count": 17,
      "outputs": []
    },
    {
      "cell_type": "code",
      "source": [
        "new_crop['N'] = temp['N']\n",
        "new_crop['P'] = temp['P']\n",
        "new_crop['K'] = temp['K']"
      ],
      "metadata": {
        "id": "QhGd-YGlU-9E"
      },
      "execution_count": 19,
      "outputs": []
    },
    {
      "cell_type": "code",
      "source": [
        "crop_recomm = new_crop.dropna()"
      ],
      "metadata": {
        "id": "M_HnunS3Y5Yg"
      },
      "execution_count": 40,
      "outputs": []
    },
    {
      "cell_type": "code",
      "source": [
        "crop_recomm.head()"
      ],
      "metadata": {
        "colab": {
          "base_uri": "https://localhost:8080/",
          "height": 206
        },
        "id": "UjeI9DLTbC8w",
        "outputId": "a4f9c2bf-6970-4c91-b1b2-fc41d5b121d4"
      },
      "execution_count": 50,
      "outputs": [
        {
          "output_type": "execute_result",
          "data": {
            "text/plain": [
              "   temperature   humidity        ph    rainfall label   N   P   K\n",
              "0    20.879744  82.002744  6.502985  202.935536  rice  82  46  38\n",
              "1    21.770462  80.319644  7.038096  226.655537  rice  72  51  35\n",
              "2    23.004459  82.320763  7.840207  263.964248  rice  90  46  40\n",
              "3    26.491096  80.158363  6.980401  242.864034  rice  89  55  38\n",
              "4    20.130175  81.604873  7.628473  262.717340  rice  87  51  42"
            ],
            "text/html": [
              "\n",
              "  <div id=\"df-8a0c3ade-cbd0-45cd-8715-8ffcf8cd4974\">\n",
              "    <div class=\"colab-df-container\">\n",
              "      <div>\n",
              "<style scoped>\n",
              "    .dataframe tbody tr th:only-of-type {\n",
              "        vertical-align: middle;\n",
              "    }\n",
              "\n",
              "    .dataframe tbody tr th {\n",
              "        vertical-align: top;\n",
              "    }\n",
              "\n",
              "    .dataframe thead th {\n",
              "        text-align: right;\n",
              "    }\n",
              "</style>\n",
              "<table border=\"1\" class=\"dataframe\">\n",
              "  <thead>\n",
              "    <tr style=\"text-align: right;\">\n",
              "      <th></th>\n",
              "      <th>temperature</th>\n",
              "      <th>humidity</th>\n",
              "      <th>ph</th>\n",
              "      <th>rainfall</th>\n",
              "      <th>label</th>\n",
              "      <th>N</th>\n",
              "      <th>P</th>\n",
              "      <th>K</th>\n",
              "    </tr>\n",
              "  </thead>\n",
              "  <tbody>\n",
              "    <tr>\n",
              "      <th>0</th>\n",
              "      <td>20.879744</td>\n",
              "      <td>82.002744</td>\n",
              "      <td>6.502985</td>\n",
              "      <td>202.935536</td>\n",
              "      <td>rice</td>\n",
              "      <td>82</td>\n",
              "      <td>46</td>\n",
              "      <td>38</td>\n",
              "    </tr>\n",
              "    <tr>\n",
              "      <th>1</th>\n",
              "      <td>21.770462</td>\n",
              "      <td>80.319644</td>\n",
              "      <td>7.038096</td>\n",
              "      <td>226.655537</td>\n",
              "      <td>rice</td>\n",
              "      <td>72</td>\n",
              "      <td>51</td>\n",
              "      <td>35</td>\n",
              "    </tr>\n",
              "    <tr>\n",
              "      <th>2</th>\n",
              "      <td>23.004459</td>\n",
              "      <td>82.320763</td>\n",
              "      <td>7.840207</td>\n",
              "      <td>263.964248</td>\n",
              "      <td>rice</td>\n",
              "      <td>90</td>\n",
              "      <td>46</td>\n",
              "      <td>40</td>\n",
              "    </tr>\n",
              "    <tr>\n",
              "      <th>3</th>\n",
              "      <td>26.491096</td>\n",
              "      <td>80.158363</td>\n",
              "      <td>6.980401</td>\n",
              "      <td>242.864034</td>\n",
              "      <td>rice</td>\n",
              "      <td>89</td>\n",
              "      <td>55</td>\n",
              "      <td>38</td>\n",
              "    </tr>\n",
              "    <tr>\n",
              "      <th>4</th>\n",
              "      <td>20.130175</td>\n",
              "      <td>81.604873</td>\n",
              "      <td>7.628473</td>\n",
              "      <td>262.717340</td>\n",
              "      <td>rice</td>\n",
              "      <td>87</td>\n",
              "      <td>51</td>\n",
              "      <td>42</td>\n",
              "    </tr>\n",
              "  </tbody>\n",
              "</table>\n",
              "</div>\n",
              "      <button class=\"colab-df-convert\" onclick=\"convertToInteractive('df-8a0c3ade-cbd0-45cd-8715-8ffcf8cd4974')\"\n",
              "              title=\"Convert this dataframe to an interactive table.\"\n",
              "              style=\"display:none;\">\n",
              "        \n",
              "  <svg xmlns=\"http://www.w3.org/2000/svg\" height=\"24px\"viewBox=\"0 0 24 24\"\n",
              "       width=\"24px\">\n",
              "    <path d=\"M0 0h24v24H0V0z\" fill=\"none\"/>\n",
              "    <path d=\"M18.56 5.44l.94 2.06.94-2.06 2.06-.94-2.06-.94-.94-2.06-.94 2.06-2.06.94zm-11 1L8.5 8.5l.94-2.06 2.06-.94-2.06-.94L8.5 2.5l-.94 2.06-2.06.94zm10 10l.94 2.06.94-2.06 2.06-.94-2.06-.94-.94-2.06-.94 2.06-2.06.94z\"/><path d=\"M17.41 7.96l-1.37-1.37c-.4-.4-.92-.59-1.43-.59-.52 0-1.04.2-1.43.59L10.3 9.45l-7.72 7.72c-.78.78-.78 2.05 0 2.83L4 21.41c.39.39.9.59 1.41.59.51 0 1.02-.2 1.41-.59l7.78-7.78 2.81-2.81c.8-.78.8-2.07 0-2.86zM5.41 20L4 18.59l7.72-7.72 1.47 1.35L5.41 20z\"/>\n",
              "  </svg>\n",
              "      </button>\n",
              "      \n",
              "  <style>\n",
              "    .colab-df-container {\n",
              "      display:flex;\n",
              "      flex-wrap:wrap;\n",
              "      gap: 12px;\n",
              "    }\n",
              "\n",
              "    .colab-df-convert {\n",
              "      background-color: #E8F0FE;\n",
              "      border: none;\n",
              "      border-radius: 50%;\n",
              "      cursor: pointer;\n",
              "      display: none;\n",
              "      fill: #1967D2;\n",
              "      height: 32px;\n",
              "      padding: 0 0 0 0;\n",
              "      width: 32px;\n",
              "    }\n",
              "\n",
              "    .colab-df-convert:hover {\n",
              "      background-color: #E2EBFA;\n",
              "      box-shadow: 0px 1px 2px rgba(60, 64, 67, 0.3), 0px 1px 3px 1px rgba(60, 64, 67, 0.15);\n",
              "      fill: #174EA6;\n",
              "    }\n",
              "\n",
              "    [theme=dark] .colab-df-convert {\n",
              "      background-color: #3B4455;\n",
              "      fill: #D2E3FC;\n",
              "    }\n",
              "\n",
              "    [theme=dark] .colab-df-convert:hover {\n",
              "      background-color: #434B5C;\n",
              "      box-shadow: 0px 1px 3px 1px rgba(0, 0, 0, 0.15);\n",
              "      filter: drop-shadow(0px 1px 2px rgba(0, 0, 0, 0.3));\n",
              "      fill: #FFFFFF;\n",
              "    }\n",
              "  </style>\n",
              "\n",
              "      <script>\n",
              "        const buttonEl =\n",
              "          document.querySelector('#df-8a0c3ade-cbd0-45cd-8715-8ffcf8cd4974 button.colab-df-convert');\n",
              "        buttonEl.style.display =\n",
              "          google.colab.kernel.accessAllowed ? 'block' : 'none';\n",
              "\n",
              "        async function convertToInteractive(key) {\n",
              "          const element = document.querySelector('#df-8a0c3ade-cbd0-45cd-8715-8ffcf8cd4974');\n",
              "          const dataTable =\n",
              "            await google.colab.kernel.invokeFunction('convertToInteractive',\n",
              "                                                     [key], {});\n",
              "          if (!dataTable) return;\n",
              "\n",
              "          const docLinkHtml = 'Like what you see? Visit the ' +\n",
              "            '<a target=\"_blank\" href=https://colab.research.google.com/notebooks/data_table.ipynb>data table notebook</a>'\n",
              "            + ' to learn more about interactive tables.';\n",
              "          element.innerHTML = '';\n",
              "          dataTable['output_type'] = 'display_data';\n",
              "          await google.colab.output.renderOutput(dataTable, element);\n",
              "          const docLink = document.createElement('div');\n",
              "          docLink.innerHTML = docLinkHtml;\n",
              "          element.appendChild(docLink);\n",
              "        }\n",
              "      </script>\n",
              "    </div>\n",
              "  </div>\n",
              "  "
            ]
          },
          "metadata": {},
          "execution_count": 50
        }
      ]
    },
    {
      "cell_type": "code",
      "source": [
        "from sklearn.metrics import classification_report\n",
        "from sklearn import metrics\n",
        "from sklearn import tree"
      ],
      "metadata": {
        "id": "isb7eVtrVDFc"
      },
      "execution_count": 20,
      "outputs": []
    },
    {
      "cell_type": "code",
      "source": [
        "features = crop_recomm[['N', 'P','K','temperature', 'humidity', 'ph', 'rainfall']]\n",
        "target = crop_recomm['label']"
      ],
      "metadata": {
        "id": "eAwIWIexYINl"
      },
      "execution_count": 41,
      "outputs": []
    },
    {
      "cell_type": "code",
      "source": [
        "from sklearn.model_selection import train_test_split\n",
        "Xtrain, Xtest, Ytrain, Ytest = train_test_split(features,target,test_size = 0.2,random_state =2)"
      ],
      "metadata": {
        "id": "9CWGL736YdAQ"
      },
      "execution_count": 42,
      "outputs": []
    },
    {
      "cell_type": "code",
      "source": [
        "Xtrain"
      ],
      "metadata": {
        "colab": {
          "base_uri": "https://localhost:8080/",
          "height": 424
        },
        "id": "qH1BofR-ZSAH",
        "outputId": "16b6e79a-8124-462a-b751-72b2877b37fe"
      },
      "execution_count": 43,
      "outputs": [
        {
          "output_type": "execute_result",
          "data": {
            "text/plain": [
              "       N   P   K  temperature   humidity        ph    rainfall\n",
              "688    4  59  18    24.849184  68.980884  7.272428   41.610805\n",
              "1649  33  12  12    31.969879  57.173770  6.276004   64.255204\n",
              "1760  46  62  45    25.098977  92.360995  6.047044  157.759263\n",
              "709   23  63  19    25.138428  83.120539  6.386260  169.338846\n",
              "90    79  39  35    26.929951  81.914112  7.069172  290.679378\n",
              "...   ..  ..  ..          ...        ...       ...         ...\n",
              "2066  69  56  43    19.959917  59.331578  5.982855  195.787103\n",
              "2199  92  22  25    18.315615  15.361435  7.263119   81.787105\n",
              "2093  72  52  41    22.472532  62.565325  5.667420   96.747070\n",
              "1627  18  26   6    30.573999  58.226868  5.818219   62.748038\n",
              "792   21  66  20    23.249256  73.653468  6.434611  184.767486\n",
              "\n",
              "[1040 rows x 7 columns]"
            ],
            "text/html": [
              "\n",
              "  <div id=\"df-2143dce4-27f6-4025-9bfb-f6b785be6ed4\">\n",
              "    <div class=\"colab-df-container\">\n",
              "      <div>\n",
              "<style scoped>\n",
              "    .dataframe tbody tr th:only-of-type {\n",
              "        vertical-align: middle;\n",
              "    }\n",
              "\n",
              "    .dataframe tbody tr th {\n",
              "        vertical-align: top;\n",
              "    }\n",
              "\n",
              "    .dataframe thead th {\n",
              "        text-align: right;\n",
              "    }\n",
              "</style>\n",
              "<table border=\"1\" class=\"dataframe\">\n",
              "  <thead>\n",
              "    <tr style=\"text-align: right;\">\n",
              "      <th></th>\n",
              "      <th>N</th>\n",
              "      <th>P</th>\n",
              "      <th>K</th>\n",
              "      <th>temperature</th>\n",
              "      <th>humidity</th>\n",
              "      <th>ph</th>\n",
              "      <th>rainfall</th>\n",
              "    </tr>\n",
              "  </thead>\n",
              "  <tbody>\n",
              "    <tr>\n",
              "      <th>688</th>\n",
              "      <td>4</td>\n",
              "      <td>59</td>\n",
              "      <td>18</td>\n",
              "      <td>24.849184</td>\n",
              "      <td>68.980884</td>\n",
              "      <td>7.272428</td>\n",
              "      <td>41.610805</td>\n",
              "    </tr>\n",
              "    <tr>\n",
              "      <th>1649</th>\n",
              "      <td>33</td>\n",
              "      <td>12</td>\n",
              "      <td>12</td>\n",
              "      <td>31.969879</td>\n",
              "      <td>57.173770</td>\n",
              "      <td>6.276004</td>\n",
              "      <td>64.255204</td>\n",
              "    </tr>\n",
              "    <tr>\n",
              "      <th>1760</th>\n",
              "      <td>46</td>\n",
              "      <td>62</td>\n",
              "      <td>45</td>\n",
              "      <td>25.098977</td>\n",
              "      <td>92.360995</td>\n",
              "      <td>6.047044</td>\n",
              "      <td>157.759263</td>\n",
              "    </tr>\n",
              "    <tr>\n",
              "      <th>709</th>\n",
              "      <td>23</td>\n",
              "      <td>63</td>\n",
              "      <td>19</td>\n",
              "      <td>25.138428</td>\n",
              "      <td>83.120539</td>\n",
              "      <td>6.386260</td>\n",
              "      <td>169.338846</td>\n",
              "    </tr>\n",
              "    <tr>\n",
              "      <th>90</th>\n",
              "      <td>79</td>\n",
              "      <td>39</td>\n",
              "      <td>35</td>\n",
              "      <td>26.929951</td>\n",
              "      <td>81.914112</td>\n",
              "      <td>7.069172</td>\n",
              "      <td>290.679378</td>\n",
              "    </tr>\n",
              "    <tr>\n",
              "      <th>...</th>\n",
              "      <td>...</td>\n",
              "      <td>...</td>\n",
              "      <td>...</td>\n",
              "      <td>...</td>\n",
              "      <td>...</td>\n",
              "      <td>...</td>\n",
              "      <td>...</td>\n",
              "    </tr>\n",
              "    <tr>\n",
              "      <th>2066</th>\n",
              "      <td>69</td>\n",
              "      <td>56</td>\n",
              "      <td>43</td>\n",
              "      <td>19.959917</td>\n",
              "      <td>59.331578</td>\n",
              "      <td>5.982855</td>\n",
              "      <td>195.787103</td>\n",
              "    </tr>\n",
              "    <tr>\n",
              "      <th>2199</th>\n",
              "      <td>92</td>\n",
              "      <td>22</td>\n",
              "      <td>25</td>\n",
              "      <td>18.315615</td>\n",
              "      <td>15.361435</td>\n",
              "      <td>7.263119</td>\n",
              "      <td>81.787105</td>\n",
              "    </tr>\n",
              "    <tr>\n",
              "      <th>2093</th>\n",
              "      <td>72</td>\n",
              "      <td>52</td>\n",
              "      <td>41</td>\n",
              "      <td>22.472532</td>\n",
              "      <td>62.565325</td>\n",
              "      <td>5.667420</td>\n",
              "      <td>96.747070</td>\n",
              "    </tr>\n",
              "    <tr>\n",
              "      <th>1627</th>\n",
              "      <td>18</td>\n",
              "      <td>26</td>\n",
              "      <td>6</td>\n",
              "      <td>30.573999</td>\n",
              "      <td>58.226868</td>\n",
              "      <td>5.818219</td>\n",
              "      <td>62.748038</td>\n",
              "    </tr>\n",
              "    <tr>\n",
              "      <th>792</th>\n",
              "      <td>21</td>\n",
              "      <td>66</td>\n",
              "      <td>20</td>\n",
              "      <td>23.249256</td>\n",
              "      <td>73.653468</td>\n",
              "      <td>6.434611</td>\n",
              "      <td>184.767486</td>\n",
              "    </tr>\n",
              "  </tbody>\n",
              "</table>\n",
              "<p>1040 rows × 7 columns</p>\n",
              "</div>\n",
              "      <button class=\"colab-df-convert\" onclick=\"convertToInteractive('df-2143dce4-27f6-4025-9bfb-f6b785be6ed4')\"\n",
              "              title=\"Convert this dataframe to an interactive table.\"\n",
              "              style=\"display:none;\">\n",
              "        \n",
              "  <svg xmlns=\"http://www.w3.org/2000/svg\" height=\"24px\"viewBox=\"0 0 24 24\"\n",
              "       width=\"24px\">\n",
              "    <path d=\"M0 0h24v24H0V0z\" fill=\"none\"/>\n",
              "    <path d=\"M18.56 5.44l.94 2.06.94-2.06 2.06-.94-2.06-.94-.94-2.06-.94 2.06-2.06.94zm-11 1L8.5 8.5l.94-2.06 2.06-.94-2.06-.94L8.5 2.5l-.94 2.06-2.06.94zm10 10l.94 2.06.94-2.06 2.06-.94-2.06-.94-.94-2.06-.94 2.06-2.06.94z\"/><path d=\"M17.41 7.96l-1.37-1.37c-.4-.4-.92-.59-1.43-.59-.52 0-1.04.2-1.43.59L10.3 9.45l-7.72 7.72c-.78.78-.78 2.05 0 2.83L4 21.41c.39.39.9.59 1.41.59.51 0 1.02-.2 1.41-.59l7.78-7.78 2.81-2.81c.8-.78.8-2.07 0-2.86zM5.41 20L4 18.59l7.72-7.72 1.47 1.35L5.41 20z\"/>\n",
              "  </svg>\n",
              "      </button>\n",
              "      \n",
              "  <style>\n",
              "    .colab-df-container {\n",
              "      display:flex;\n",
              "      flex-wrap:wrap;\n",
              "      gap: 12px;\n",
              "    }\n",
              "\n",
              "    .colab-df-convert {\n",
              "      background-color: #E8F0FE;\n",
              "      border: none;\n",
              "      border-radius: 50%;\n",
              "      cursor: pointer;\n",
              "      display: none;\n",
              "      fill: #1967D2;\n",
              "      height: 32px;\n",
              "      padding: 0 0 0 0;\n",
              "      width: 32px;\n",
              "    }\n",
              "\n",
              "    .colab-df-convert:hover {\n",
              "      background-color: #E2EBFA;\n",
              "      box-shadow: 0px 1px 2px rgba(60, 64, 67, 0.3), 0px 1px 3px 1px rgba(60, 64, 67, 0.15);\n",
              "      fill: #174EA6;\n",
              "    }\n",
              "\n",
              "    [theme=dark] .colab-df-convert {\n",
              "      background-color: #3B4455;\n",
              "      fill: #D2E3FC;\n",
              "    }\n",
              "\n",
              "    [theme=dark] .colab-df-convert:hover {\n",
              "      background-color: #434B5C;\n",
              "      box-shadow: 0px 1px 3px 1px rgba(0, 0, 0, 0.15);\n",
              "      filter: drop-shadow(0px 1px 2px rgba(0, 0, 0, 0.3));\n",
              "      fill: #FFFFFF;\n",
              "    }\n",
              "  </style>\n",
              "\n",
              "      <script>\n",
              "        const buttonEl =\n",
              "          document.querySelector('#df-2143dce4-27f6-4025-9bfb-f6b785be6ed4 button.colab-df-convert');\n",
              "        buttonEl.style.display =\n",
              "          google.colab.kernel.accessAllowed ? 'block' : 'none';\n",
              "\n",
              "        async function convertToInteractive(key) {\n",
              "          const element = document.querySelector('#df-2143dce4-27f6-4025-9bfb-f6b785be6ed4');\n",
              "          const dataTable =\n",
              "            await google.colab.kernel.invokeFunction('convertToInteractive',\n",
              "                                                     [key], {});\n",
              "          if (!dataTable) return;\n",
              "\n",
              "          const docLinkHtml = 'Like what you see? Visit the ' +\n",
              "            '<a target=\"_blank\" href=https://colab.research.google.com/notebooks/data_table.ipynb>data table notebook</a>'\n",
              "            + ' to learn more about interactive tables.';\n",
              "          element.innerHTML = '';\n",
              "          dataTable['output_type'] = 'display_data';\n",
              "          await google.colab.output.renderOutput(dataTable, element);\n",
              "          const docLink = document.createElement('div');\n",
              "          docLink.innerHTML = docLinkHtml;\n",
              "          element.appendChild(docLink);\n",
              "        }\n",
              "      </script>\n",
              "    </div>\n",
              "  </div>\n",
              "  "
            ]
          },
          "metadata": {},
          "execution_count": 43
        }
      ]
    },
    {
      "cell_type": "code",
      "source": [
        "from sklearn.linear_model import LogisticRegression\n",
        "\n",
        "LogReg = LogisticRegression(random_state=2)\n",
        "\n",
        "LogReg.fit(Xtrain,Ytrain)\n",
        "\n",
        "predicted_values = LogReg.predict(Xtest)\n",
        "\n",
        "x = metrics.accuracy_score(Ytest, predicted_values)\n",
        "\n",
        "print(\"Logistic Regression's Accuracy is: \", x)\n",
        "\n",
        "print(classification_report(Ytest,predicted_values))"
      ],
      "metadata": {
        "id": "I6f0h2zxIXUU"
      },
      "execution_count": null,
      "outputs": []
    },
    {
      "cell_type": "code",
      "source": [
        "from sklearn.tree import DecisionTreeClassifier\n",
        "\n",
        "DecisionTree = DecisionTreeClassifier(criterion=\"entropy\",random_state=2,max_depth=5)\n",
        "\n",
        "DecisionTree.fit(Xtrain,Ytrain)\n",
        "\n",
        "predicted_values = DecisionTree.predict(Xtest)\n",
        "x = metrics.accuracy_score(Ytest, predicted_values)\n",
        "\n",
        "print(\"DecisionTrees's Accuracy is: \", x*100)\n",
        "\n",
        "print(classification_report(Ytest,predicted_values))"
      ],
      "metadata": {
        "colab": {
          "base_uri": "https://localhost:8080/"
        },
        "id": "IKQ1O9x0YT_H",
        "outputId": "9e33dd86-fc5e-433e-d54e-f0d43ff3741c"
      },
      "execution_count": 44,
      "outputs": [
        {
          "output_type": "stream",
          "name": "stdout",
          "text": [
            "DecisionTrees's Accuracy is:  100.0\n",
            "              precision    recall  f1-score   support\n",
            "\n",
            "   blackgram       1.00      1.00      1.00        29\n",
            "    chickpea       1.00      1.00      1.00        24\n",
            "     coconut       1.00      1.00      1.00        21\n",
            "      coffee       1.00      1.00      1.00        21\n",
            "      cotton       1.00      1.00      1.00        16\n",
            "        jute       1.00      1.00      1.00        20\n",
            " kidneybeans       1.00      1.00      1.00        16\n",
            "      lentil       1.00      1.00      1.00        19\n",
            "       maize       1.00      1.00      1.00        20\n",
            "   mothbeans       1.00      1.00      1.00        21\n",
            "    mungbean       1.00      1.00      1.00        16\n",
            "  pigeonpeas       1.00      1.00      1.00        19\n",
            "        rice       1.00      1.00      1.00        18\n",
            "\n",
            "    accuracy                           1.00       260\n",
            "   macro avg       1.00      1.00      1.00       260\n",
            "weighted avg       1.00      1.00      1.00       260\n",
            "\n"
          ]
        }
      ]
    },
    {
      "cell_type": "code",
      "source": [
        "from sklearn.naive_bayes import GaussianNB\n",
        "\n",
        "NaiveBayes = GaussianNB()\n",
        "\n",
        "NaiveBayes.fit(Xtrain,Ytrain)\n",
        "\n",
        "predicted_values = NaiveBayes.predict(Xtest)\n",
        "x = metrics.accuracy_score(Ytest, predicted_values)\n",
        "\n",
        "print(\"Naive Bayes's Accuracy is: \", x)\n",
        "\n",
        "print(classification_report(Ytest,predicted_values))"
      ],
      "metadata": {
        "colab": {
          "base_uri": "https://localhost:8080/"
        },
        "id": "7kGPLGmZYdbZ",
        "outputId": "d21d060e-bf7c-4523-9cbd-7faf664e6e57"
      },
      "execution_count": 45,
      "outputs": [
        {
          "output_type": "stream",
          "name": "stdout",
          "text": [
            "Naive Bayes's Accuracy is:  1.0\n",
            "              precision    recall  f1-score   support\n",
            "\n",
            "   blackgram       1.00      1.00      1.00        29\n",
            "    chickpea       1.00      1.00      1.00        24\n",
            "     coconut       1.00      1.00      1.00        21\n",
            "      coffee       1.00      1.00      1.00        21\n",
            "      cotton       1.00      1.00      1.00        16\n",
            "        jute       1.00      1.00      1.00        20\n",
            " kidneybeans       1.00      1.00      1.00        16\n",
            "      lentil       1.00      1.00      1.00        19\n",
            "       maize       1.00      1.00      1.00        20\n",
            "   mothbeans       1.00      1.00      1.00        21\n",
            "    mungbean       1.00      1.00      1.00        16\n",
            "  pigeonpeas       1.00      1.00      1.00        19\n",
            "        rice       1.00      1.00      1.00        18\n",
            "\n",
            "    accuracy                           1.00       260\n",
            "   macro avg       1.00      1.00      1.00       260\n",
            "weighted avg       1.00      1.00      1.00       260\n",
            "\n"
          ]
        }
      ]
    },
    {
      "cell_type": "code",
      "source": [
        "from sklearn.model_selection import cross_val_score\n",
        "score = cross_val_score(NaiveBayes,features,target,cv=5)\n",
        "score"
      ],
      "metadata": {
        "colab": {
          "base_uri": "https://localhost:8080/"
        },
        "id": "U8RUI9lvYp_f",
        "outputId": "6f78dbf3-df01-458f-bb9b-595b5a3de4b4"
      },
      "execution_count": 49,
      "outputs": [
        {
          "output_type": "execute_result",
          "data": {
            "text/plain": [
              "array([1.        , 1.        , 1.        , 1.        , 0.99230769])"
            ]
          },
          "metadata": {},
          "execution_count": 49
        }
      ]
    },
    {
      "cell_type": "code",
      "source": [
        "from sklearn.svm import SVC\n",
        "from sklearn.preprocessing import MinMaxScaler\n",
        "norm = MinMaxScaler().fit(Xtrain)\n",
        "X_train_norm = norm.transform(Xtrain)\n",
        "X_test_norm = norm.transform(Xtest)\n",
        "SVM = SVC(kernel='poly', degree=3, C=1)\n",
        "SVM.fit(X_train_norm,Ytrain)\n",
        "predicted_values = SVM.predict(X_test_norm)\n",
        "x = metrics.accuracy_score(Ytest, predicted_values)\n",
        "\n",
        "print(\"SVM's Accuracy is: \", x)\n",
        "\n",
        "print(classification_report(Ytest,predicted_values))"
      ],
      "metadata": {
        "colab": {
          "base_uri": "https://localhost:8080/"
        },
        "id": "Y7-Iq9mRYs9Q",
        "outputId": "711ff738-56b6-4b47-cf79-a390e6458891"
      },
      "execution_count": 47,
      "outputs": [
        {
          "output_type": "stream",
          "name": "stdout",
          "text": [
            "SVM's Accuracy is:  0.9923076923076923\n",
            "              precision    recall  f1-score   support\n",
            "\n",
            "   blackgram       1.00      1.00      1.00        29\n",
            "    chickpea       1.00      1.00      1.00        24\n",
            "     coconut       1.00      1.00      1.00        21\n",
            "      coffee       0.91      1.00      0.95        21\n",
            "      cotton       1.00      1.00      1.00        16\n",
            "        jute       1.00      0.95      0.97        20\n",
            " kidneybeans       1.00      1.00      1.00        16\n",
            "      lentil       1.00      1.00      1.00        19\n",
            "       maize       1.00      0.95      0.97        20\n",
            "   mothbeans       1.00      1.00      1.00        21\n",
            "    mungbean       1.00      1.00      1.00        16\n",
            "  pigeonpeas       1.00      1.00      1.00        19\n",
            "        rice       1.00      1.00      1.00        18\n",
            "\n",
            "    accuracy                           0.99       260\n",
            "   macro avg       0.99      0.99      0.99       260\n",
            "weighted avg       0.99      0.99      0.99       260\n",
            "\n"
          ]
        }
      ]
    },
    {
      "cell_type": "code",
      "source": [
        "from sklearn.ensemble import RandomForestClassifier\n",
        "\n",
        "RF = RandomForestClassifier(n_estimators=20, random_state=0)\n",
        "RF.fit(Xtrain,Ytrain)\n",
        "\n",
        "predicted_values = RF.predict(Xtest)\n",
        "\n",
        "x = metrics.accuracy_score(Ytest, predicted_values)\n",
        "\n",
        "print(\"RF's Accuracy is: \", x)\n",
        "\n",
        "print(classification_report(Ytest,predicted_values))"
      ],
      "metadata": {
        "id": "QryoRuFOJW7z"
      },
      "execution_count": null,
      "outputs": []
    },
    {
      "cell_type": "code",
      "source": [
        "import xgboost as xgb\n",
        "XB = xgb.XGBClassifier()\n",
        "XB.fit(Xtrain,Ytrain)\n",
        "\n",
        "predicted_values = XB.predict(Xtest)\n",
        "\n",
        "x = metrics.accuracy_score(Ytest, predicted_values)\n",
        "\n",
        "print(\"XGBoost's Accuracy is: \", x)\n",
        "\n",
        "print(classification_report(Ytest,predicted_values))"
      ],
      "metadata": {
        "id": "XIyMOVwQYx8_"
      },
      "execution_count": null,
      "outputs": []
    },
    {
      "cell_type": "code",
      "source": [
        "import tensorflow as tf\n",
        "from tensorflow import keras\n",
        "from tensorflow.keras.layers import Dense"
      ],
      "metadata": {
        "id": "8R9YJrmAZw2q"
      },
      "execution_count": null,
      "outputs": []
    },
    {
      "cell_type": "code",
      "source": [
        "model = keras.Sequential()\n",
        "model.add(Dense(128, activation='relu', input_shape=[Xtrain.shape[1]]))\n",
        "model.add(Dense(64))\n",
        "model.add(Dense(64))\n",
        "model.add(Dense(len(df['label'].unique()),activation='softmax'))\n",
        "\n",
        "model.compile(optimizer= 'adam', loss='categorical_crossentropy', metrics=['accuracy'])\n",
        "history = model.fit(Xtrain, Ytrain, epochs=20, verbose=2,validation_split=0.25)"
      ],
      "metadata": {
        "id": "H9GX5D-oeofP"
      },
      "execution_count": null,
      "outputs": []
    },
    {
      "cell_type": "code",
      "source": [
        "from matplotlib import pyplot as plt\n",
        "plt.plot(history.history['accuracy'])\n",
        "plt.plot(history.history['val_accuracy'])\n",
        "plt.title('model accuracy')\n",
        "plt.ylabel('accuracy')\n",
        "plt.xlabel('epoch')\n",
        "plt.legend(['train', 'val'], loc='upper left')\n",
        "plt.show()"
      ],
      "metadata": {
        "id": "j4lOVkbGeqkW"
      },
      "execution_count": null,
      "outputs": []
    },
    {
      "cell_type": "code",
      "source": [
        "plt.plot(history.history['loss'])\n",
        "plt.plot(history.history['val_loss'])\n",
        "plt.title('model loss')\n",
        "plt.ylabel('loss')\n",
        "plt.xlabel('epoch')\n",
        "plt.legend(['train', 'val'], loc='upper left')\n",
        "plt.show()"
      ],
      "metadata": {
        "id": "OA4AlAM4etD-"
      },
      "execution_count": null,
      "outputs": []
    },
    {
      "cell_type": "code",
      "source": [
        "from sklearn.metrics import mean_squared_error as mse,r2_score\n",
        "\n",
        "pred = model.predict(Xtest)\n",
        "r2_score(Ytest,pred)"
      ],
      "metadata": {
        "id": "aFtvLbd7eufJ"
      },
      "execution_count": null,
      "outputs": []
    }
  ]
}